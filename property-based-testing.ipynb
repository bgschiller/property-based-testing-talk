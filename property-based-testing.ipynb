{
 "cells": [
  {
   "cell_type": "code",
   "execution_count": 2,
   "metadata": {
    "collapsed": true,
    "slideshow": {
     "slide_type": "skip"
    }
   },
   "outputs": [],
   "source": [
    "import math\n",
    "\n",
    "%matplotlib inline\n",
    "import matplotlib.pyplot as plt\n",
    "from collections import Counter\n",
    "from hypothesis import given\n",
    "from hypothesis.strategies import lists, sets, integers, floats, datetimes, sampled_from\n",
    "from contextlib import contextmanager\n",
    "import io\n",
    "import sys\n",
    "\n",
    "SF_18_CHAR_IDS = (\n",
    " '00600000002nxMDaay','00600000002nxvTaaq', '00600000002ny2Uaaq', '00600000002okRnaai', '00600000002pObWaau', '00600000002pp1faaa', '00600000002qbSCaay',\n",
    " '00600000002qbU2aai', '00600000002qbVJaay', '00600000002sAmSaau', '00600000002tEo5aae', '006000000038DFcaam',\n",
    " '00600000003buG6aai', '00600000003bvAcaai', '00Dj0000001ticoeaa', '00600000003bvLqaai', '00600000003c4Dnaai',\n",
    " '00600000003DJ9Zaaw', '00T00000005p04beaa', '00Do0000000KjYWea0', '00T0000000bDNIAea4', '00T0000000DsS8Qeav',\n",
    " '00T0000000edZNream', '00T0000000gXy1teac', '00T0000000HRq34ead', '00T0000000hs8VMeay', '00T0000000hVn5Heas',\n",
    " '00T0000000i2tL2eai', '00T0000000jVXkqeag', '00T0000000kcVEYea2', '00T0000000kG6o6eac', '00T0000000kXnAJea0',\n",
    " '00T0000000m8nfTeaq', '00T0000000mA3A2eak', '00T0000000mfyFXeay', '01Jo00000020Wugeae', '01Jo00000020Wuheae',\n",
    " '01Jo00000020Wuieae', '01Ji000000KFi7uead', '01JA000000Ix3OGmaz', '01JA000000Ix3OLmaz', '01JA000000IxYXeman',\n",
    " '01JA000000IxYXjman', '01JA000000IxYXoman', '01JA000000IxYXtman', '01JA000000JVusAmat', '01JA000000JWi5tmad',\n",
    " '01Jb000000CLHGIea5', '01Jb000000CLHGNea5', '00DF00000004zocmaa', '00D60000000IPvgeag', '00D61000000ds5Peaq',\n",
    " '00DE0000000J7KQma0', '00D37000000I9cOeas', '00D80000000ZN5Geaw'\n",
    ")\n",
    "\n",
    "SF_15_CHAR_IDS = (\n",
    "    '00600000002nxMD', '00600000002nxvT', '00600000002ny2U', '00600000002okRn', '00600000002pObW',\n",
    "    '00600000002pp1f', '00600000002qbSC', '00600000002qbU2', '00600000002qbVJ', '00D80000000ZN5G',\n",
    "    '00600000002sAmS', '00600000002tEo5', '006000000038DFc', '00600000003buG6', '00600000003bvAc',\n",
    "    '00Dj0000001tico', '00600000003bvLq', '00600000003c4Dn', '00600000003DJ9Z', '00T00000005p04b',\n",
    "    '00Do0000000KjYW', '00T0000000bDNIA', '00T0000000DsS8Q', '00T0000000edZNr', '00T0000000gXy1t',\n",
    "    '00T0000000HRq34', '00T0000000hs8VM', '00T0000000hVn5H', '00T0000000i2tL2', '00T0000000jVXkq',\n",
    "    '00T0000000kcVEY', '00T0000000kG6o6', '00T0000000kXnAJ', '00T0000000m8nfT', '00T0000000mA3A2',\n",
    "    '00T0000000mfyFX', '01Jo00000020Wug', '01Jo00000020Wuh', '01Jo00000020Wui', '01Ji000000KFi7u',\n",
    "    '01JA000000Ix3OG', '01JA000000Ix3OL', '01JA000000IxYXe', '01JA000000IxYXj', '01JA000000IxYXo',\n",
    "    '01JA000000IxYXt', '01JA000000JVusA', '01JA000000JWi5t', '01Jb000000CLHGI', '01Jb000000CLHGN',\n",
    "    '00DF00000004zoc', '00D60000000IPvg', '00D61000000ds5P', '00DE0000000J7KQ', '00D37000000I9cO'\n",
    ")\n",
    "\n",
    "def all_same(*items):\n",
    "    if not items:\n",
    "        return True\n",
    "    return all(x == items[0] for x in items)\n",
    "\n",
    "@contextmanager\n",
    "def stdout_redirector(stream):\n",
    "    old_stdout = sys.stdout\n",
    "    sys.stdout = stream\n",
    "    try:\n",
    "        yield\n",
    "    finally:\n",
    "        sys.stdout = old_stdout\n",
    "\n",
    "FAIL = '\\033[91m'\n",
    "ENDC = '\\033[0m'\n",
    "def print_failure_case(func):\n",
    "    f = io.StringIO()\n",
    "    with stdout_redirector(f):\n",
    "        try:\n",
    "            func()\n",
    "        except Exception as e:\n",
    "            pass\n",
    "    res = f.getvalue()\n",
    "    if res:\n",
    "        print(FAIL + res + ENDC, end='')"
   ]
  },
  {
   "cell_type": "markdown",
   "metadata": {
    "slideshow": {
     "slide_type": "slide"
    }
   },
   "source": [
    "# Property-based Testing\n",
    "\n",
    "#### With examples in Python and JS"
   ]
  },
  {
   "cell_type": "markdown",
   "metadata": {
    "slideshow": {
     "slide_type": "fragment"
    }
   },
   "source": [
    "### aka Generative Testing\n"
   ]
  },
  {
   "cell_type": "markdown",
   "metadata": {
    "slideshow": {
     "slide_type": "fragment"
    }
   },
   "source": [
    "### aka \"I'm too lazy to come up with test cases\""
   ]
  },
  {
   "cell_type": "markdown",
   "metadata": {
    "slideshow": {
     "slide_type": "slide"
    }
   },
   "source": [
    "# What is property-based/generative testing?\n",
    "\n",
    "- property-based: check that statements or invariants are true for an example\n",
    "- generative: automatically generate examples\n",
    "\n",
    "Two separate ideas, but usually practiced together."
   ]
  },
  {
   "cell_type": "markdown",
   "metadata": {
    "slideshow": {
     "slide_type": "fragment"
    }
   },
   "source": [
    "### Instead of checking for equality...\n"
   ]
  },
  {
   "cell_type": "code",
   "execution_count": 3,
   "metadata": {
    "collapsed": true
   },
   "outputs": [],
   "source": [
    "def test_sort_on_example():\n",
    "    assert sorted([3, 5, 18, 2, -4]) == [-4, 2, 3, 5, 18]"
   ]
  },
  {
   "cell_type": "markdown",
   "metadata": {
    "slideshow": {
     "slide_type": "fragment"
    }
   },
   "source": [
    "### Describe a property that should be true.\n"
   ]
  },
  {
   "cell_type": "code",
   "execution_count": 4,
   "metadata": {
    "collapsed": true
   },
   "outputs": [],
   "source": [
    "from hypothesis import given\n",
    "from hypothesis.strategies import lists, integers\n",
    "\n",
    "@given(lists(integers()))\n",
    "def test_sort_produces_correct_order(a_list):\n",
    "    sorted_lst = sorted(a_list)\n",
    "    for ix in range(len(sorted_lst) - 1):\n",
    "        assert sorted_lst[ix] <= sorted_lst[ix + 1]"
   ]
  },
  {
   "cell_type": "markdown",
   "metadata": {
    "slideshow": {
     "slide_type": "slide"
    }
   },
   "source": [
    "## How to do property-based/generative testing\n",
    "\n",
    "- Generate an \"arbitrary example\" of the input for the function under test.\n",
    "  - `lists(integers())` is a generic example of a list of integers.\n",
    "  - Testing libraries have built-ins for primitive types, but we'll see later how to make more complicated structures."
   ]
  },
  {
   "cell_type": "markdown",
   "metadata": {
    "slideshow": {
     "slide_type": "fragment"
    }
   },
   "source": [
    "- Come up with \"properties\" of the function under test.\n",
    "  - Not like 'obj.attribute'\n",
    "  - More like \"The output of `sorted` is a list of the same length as its input\""
   ]
  },
  {
   "cell_type": "markdown",
   "metadata": {
    "slideshow": {
     "slide_type": "fragment"
    }
   },
   "source": [
    "- Use your \"arbitary example\" generator to run through tons of examples. Try and find a case where the property fails."
   ]
  },
  {
   "cell_type": "markdown",
   "metadata": {
    "slideshow": {
     "slide_type": "slide"
    }
   },
   "source": [
    "## Why do I need a framework?\n",
    "\n",
    "What's wrong with just `import random` or `Math.random()`?\n",
    "\n",
    "#### A (good) generative-testing framework provides:"
   ]
  },
  {
   "cell_type": "markdown",
   "metadata": {
    "collapsed": true,
    "slideshow": {
     "slide_type": "fragment"
    }
   },
   "source": [
    "- 'shrink'-ability of failure cases.\n",
    "  - [-389294971153641476861717385245149368395L,\n",
    "     -389294971153641476861717385244970907453L,\n",
    "     988,\n",
    "     -88,\n",
    "     1665,\n",
    "     1649,\n",
    "     -389294971153641476861717385245047265893L,\n",
    "     ...,\n",
    "     -938,\n",
    "     -389294971153641476861717385244722191400L,\n",
    "     -389294971153641476861717385245315066655L,\n",
    "     751,\n",
    "     -389294971153641476861717385244787482770L]\n",
    "  - becomes [0, -1]"
   ]
  },
  {
   "cell_type": "markdown",
   "metadata": {
    "slideshow": {
     "slide_type": "fragment"
    }
   },
   "source": [
    "- specifically testing edge-cases\n",
    "  - eg, `0`, `+/-Inf`, `[]`, `''`"
   ]
  },
  {
   "cell_type": "markdown",
   "metadata": {
    "slideshow": {
     "slide_type": "fragment"
    }
   },
   "source": [
    "- database of failed cases (reproducibility)\n",
    "  - not yet in testcheck.js"
   ]
  },
  {
   "cell_type": "markdown",
   "metadata": {
    "slideshow": {
     "slide_type": "slide"
    }
   },
   "source": [
    "# When is generative testing appropriate?\n",
    "\n",
    "##  When we can come up with properties\n",
    "\n",
    "- roundtrip computations\n",
    "- \"fixed-point\" computations\n",
    "- compare to a reference implementation\n",
    "- a clear relationship between input and output\n",
    "- start with an example and generalize it"
   ]
  },
  {
   "cell_type": "markdown",
   "metadata": {
    "slideshow": {
     "slide_type": "slide"
    }
   },
   "source": [
    "#### How to come up with properties?\n",
    "\n",
    "## Roundtrip examples -- salesforce ids\n",
    "\n",
    "Salesforce ids come in two forms:\n",
    "- case-sensitive 15-char\n",
    "- case-insensitive 18-char\n"
   ]
  },
  {
   "cell_type": "markdown",
   "metadata": {
    "slideshow": {
     "slide_type": "fragment"
    }
   },
   "source": [
    "### Convert from 15 to 18:\n",
    "\n",
    "1. Split the fifteen characters into three groups of five.\n",
    "2. For each group of five:\n",
    "3. Make a length-5 bitstring (eg `01001`) encoding whether the letter at each position is capitalized\n",
    "4. Use a lookup table to map that bitstring to a letter. Tack the letter onto the end.\n",
    "5. After doing this for each group of five, the last three positions of the id encode the capitalization of the rest of the string.\n",
    "\n"
   ]
  },
  {
   "cell_type": "markdown",
   "metadata": {
    "slideshow": {
     "slide_type": "fragment"
    }
   },
   "source": [
    "### Convert from 18 to 15:  do the reverse"
   ]
  },
  {
   "cell_type": "code",
   "execution_count": 5,
   "metadata": {
    "collapsed": true,
    "slideshow": {
     "slide_type": "subslide"
    }
   },
   "outputs": [],
   "source": [
    "def sfid_18_to_15(sf_id):\n",
    "    sf_id = list(sf_id)\n",
    "    for i in range(3):\n",
    "        bitmask = 'abcdefghijklmnopqrstuvwxyz012345'.index(sf_id[15 + i])\n",
    "        for j in range(5):\n",
    "            if bitmask & (1 << j):\n",
    "                sf_id[i * 5 + j] = sf_id[i * 5 + j].upper()\n",
    "            else:\n",
    "                sf_id[i * 5 + j] = sf_id[i * 5 + j].lower()\n",
    "    return ''.join(sf_id[:15])\n",
    "\n",
    "\n",
    "def sfid_15_to_18(sf_id):\n",
    "    suffix = []\n",
    "    for i in range(3):\n",
    "        flags = 0\n",
    "        for j in range(5):\n",
    "            c = sf_id[i * 5 + j]\n",
    "            if 'A' <= c <= 'Z':\n",
    "                flags += 1 << j\n",
    "        suffix.append('abcdefghijklmnopqrstuvwxyz012345'[flags])\n",
    "    return sf_id + ''.join(suffix)\n"
   ]
  },
  {
   "cell_type": "markdown",
   "metadata": {
    "slideshow": {
     "slide_type": "fragment"
    }
   },
   "source": [
    "*Can you spot the error?*"
   ]
  },
  {
   "cell_type": "markdown",
   "metadata": {
    "collapsed": true,
    "slideshow": {
     "slide_type": "subslide"
    }
   },
   "source": [
    "## What can we test?\n",
    "\n"
   ]
  },
  {
   "cell_type": "markdown",
   "metadata": {
    "slideshow": {
     "slide_type": "fragment"
    }
   },
   "source": [
    "- Passing through both conversions, an 18-char id comes out the same"
   ]
  },
  {
   "cell_type": "code",
   "execution_count": 6,
   "metadata": {
    "collapsed": true,
    "slideshow": {
     "slide_type": "fragment"
    }
   },
   "outputs": [],
   "source": [
    "@given(sampled_from(SF_18_CHAR_IDS))\n",
    "def test_18_to_15_to_18_roundtrip(sf_18_char):\n",
    "    assert sf_18_char == sfid_15_to_18(sfid_18_to_15(sf_18_char))"
   ]
  },
  {
   "cell_type": "code",
   "execution_count": 7,
   "metadata": {
    "collapsed": true,
    "slideshow": {
     "slide_type": "fragment"
    }
   },
   "outputs": [],
   "source": [
    "test_18_to_15_to_18_roundtrip()"
   ]
  },
  {
   "cell_type": "markdown",
   "metadata": {
    "slideshow": {
     "slide_type": "fragment"
    }
   },
   "source": [
    "- Passing through both conversions, a 15-char id comes out the same\n"
   ]
  },
  {
   "cell_type": "code",
   "execution_count": 8,
   "metadata": {
    "collapsed": true,
    "slideshow": {
     "slide_type": "fragment"
    }
   },
   "outputs": [],
   "source": [
    "@given(sampled_from(SF_15_CHAR_IDS))\n",
    "def test_15_to_18_to_15_roundtrip(sf_15_char):\n",
    "    assert sf_15_char == sfid_18_to_15(sfid_15_to_18(sf_15_char))"
   ]
  },
  {
   "cell_type": "code",
   "execution_count": 9,
   "metadata": {
    "collapsed": true,
    "slideshow": {
     "slide_type": "fragment"
    }
   },
   "outputs": [],
   "source": [
    "test_15_to_18_to_15_roundtrip()"
   ]
  },
  {
   "cell_type": "markdown",
   "metadata": {
    "slideshow": {
     "slide_type": "fragment"
    }
   },
   "source": [
    "*no problems so far, maybe we're good?*"
   ]
  },
  {
   "cell_type": "markdown",
   "metadata": {
    "slideshow": {
     "slide_type": "subslide"
    }
   },
   "source": [
    "- An 18-char id should be case-insensitive"
   ]
  },
  {
   "cell_type": "code",
   "execution_count": 10,
   "metadata": {
    "collapsed": true,
    "slideshow": {
     "slide_type": "fragment"
    }
   },
   "outputs": [],
   "source": [
    "@given(sampled_from(SF_18_CHAR_IDS))\n",
    "def test_18_char_is_case_insensitive(sf_18_char):\n",
    "    assert all_same(\n",
    "        sfid_18_to_15(sf_18_char),\n",
    "        sfid_18_to_15(sf_18_char.lower()),\n",
    "        sfid_18_to_15(sf_18_char.upper()),\n",
    "        sfid_18_to_15(sf_18_char.swapcase()))\n"
   ]
  },
  {
   "cell_type": "code",
   "execution_count": 11,
   "metadata": {
    "slideshow": {
     "slide_type": "fragment"
    }
   },
   "outputs": [
    {
     "name": "stdout",
     "output_type": "stream",
     "text": [
      "Falsifying example: test_18_char_is_case_insensitive(sf_18_char='00600000002nxMDaay')\n"
     ]
    },
    {
     "ename": "ValueError",
     "evalue": "substring not found",
     "output_type": "error",
     "traceback": [
      "\u001b[0;31m---------------------------------------------------------------------------\u001b[0m",
      "\u001b[0;31mValueError\u001b[0m                                Traceback (most recent call last)",
      "\u001b[0;32m<ipython-input-11-b926b06fa861>\u001b[0m in \u001b[0;36m<module>\u001b[0;34m()\u001b[0m\n\u001b[0;32m----> 1\u001b[0;31m \u001b[0mtest_18_char_is_case_insensitive\u001b[0m\u001b[0;34m(\u001b[0m\u001b[0;34m)\u001b[0m\u001b[0;34m\u001b[0m\u001b[0m\n\u001b[0m",
      "\u001b[0;32m<ipython-input-10-7fb62f71f9bd>\u001b[0m in \u001b[0;36mtest_18_char_is_case_insensitive\u001b[0;34m()\u001b[0m\n\u001b[1;32m      1\u001b[0m \u001b[0;34m@\u001b[0m\u001b[0mgiven\u001b[0m\u001b[0;34m(\u001b[0m\u001b[0msampled_from\u001b[0m\u001b[0;34m(\u001b[0m\u001b[0mSF_18_CHAR_IDS\u001b[0m\u001b[0;34m)\u001b[0m\u001b[0;34m)\u001b[0m\u001b[0;34m\u001b[0m\u001b[0m\n\u001b[0;32m----> 2\u001b[0;31m \u001b[0;32mdef\u001b[0m \u001b[0mtest_18_char_is_case_insensitive\u001b[0m\u001b[0;34m(\u001b[0m\u001b[0msf_18_char\u001b[0m\u001b[0;34m)\u001b[0m\u001b[0;34m:\u001b[0m\u001b[0;34m\u001b[0m\u001b[0m\n\u001b[0m\u001b[1;32m      3\u001b[0m     assert all_same(\n\u001b[1;32m      4\u001b[0m         \u001b[0msfid_18_to_15\u001b[0m\u001b[0;34m(\u001b[0m\u001b[0msf_18_char\u001b[0m\u001b[0;34m)\u001b[0m\u001b[0;34m,\u001b[0m\u001b[0;34m\u001b[0m\u001b[0m\n\u001b[1;32m      5\u001b[0m         \u001b[0msfid_18_to_15\u001b[0m\u001b[0;34m(\u001b[0m\u001b[0msf_18_char\u001b[0m\u001b[0;34m.\u001b[0m\u001b[0mlower\u001b[0m\u001b[0;34m(\u001b[0m\u001b[0;34m)\u001b[0m\u001b[0;34m)\u001b[0m\u001b[0;34m,\u001b[0m\u001b[0;34m\u001b[0m\u001b[0m\n",
      "\u001b[0;32m~/.virtualenvs/property-based-testing-talk/lib/python3.5/site-packages/hypothesis/core.py\u001b[0m in \u001b[0;36mwrapped_test\u001b[0;34m(*arguments, **kwargs)\u001b[0m\n\u001b[1;32m    719\u001b[0m             state = StateForActualGivenExecution(\n\u001b[1;32m    720\u001b[0m                 test_runner, search_strategy, test, settings, random)\n\u001b[0;32m--> 721\u001b[0;31m             \u001b[0mstate\u001b[0m\u001b[0;34m.\u001b[0m\u001b[0mrun\u001b[0m\u001b[0;34m(\u001b[0m\u001b[0;34m)\u001b[0m\u001b[0;34m\u001b[0m\u001b[0m\n\u001b[0m\u001b[1;32m    722\u001b[0m \u001b[0;34m\u001b[0m\u001b[0m\n\u001b[1;32m    723\u001b[0m         \u001b[0;32mfor\u001b[0m \u001b[0mattr\u001b[0m \u001b[0;32min\u001b[0m \u001b[0mdir\u001b[0m\u001b[0;34m(\u001b[0m\u001b[0mtest\u001b[0m\u001b[0;34m)\u001b[0m\u001b[0;34m:\u001b[0m\u001b[0;34m\u001b[0m\u001b[0m\n",
      "\u001b[0;32m~/.virtualenvs/property-based-testing-talk/lib/python3.5/site-packages/hypothesis/core.py\u001b[0m in \u001b[0;36mrun\u001b[0;34m(self)\u001b[0m\n\u001b[1;32m    612\u001b[0m                     reify_and_execute(\n\u001b[1;32m    613\u001b[0m                         \u001b[0mself\u001b[0m\u001b[0;34m.\u001b[0m\u001b[0msearch_strategy\u001b[0m\u001b[0;34m,\u001b[0m \u001b[0mself\u001b[0m\u001b[0;34m.\u001b[0m\u001b[0mtest\u001b[0m\u001b[0;34m,\u001b[0m\u001b[0;34m\u001b[0m\u001b[0m\n\u001b[0;32m--> 614\u001b[0;31m                         \u001b[0mprint_example\u001b[0m\u001b[0;34m=\u001b[0m\u001b[0;32mTrue\u001b[0m\u001b[0;34m,\u001b[0m \u001b[0mis_final\u001b[0m\u001b[0;34m=\u001b[0m\u001b[0;32mTrue\u001b[0m\u001b[0;34m\u001b[0m\u001b[0m\n\u001b[0m\u001b[1;32m    615\u001b[0m                     ))\n\u001b[1;32m    616\u001b[0m         \u001b[0;32mexcept\u001b[0m \u001b[0;34m(\u001b[0m\u001b[0mUnsatisfiedAssumption\u001b[0m\u001b[0;34m,\u001b[0m \u001b[0mStopTest\u001b[0m\u001b[0;34m)\u001b[0m\u001b[0;34m:\u001b[0m\u001b[0;34m\u001b[0m\u001b[0m\n",
      "\u001b[0;32m~/.virtualenvs/property-based-testing-talk/lib/python3.5/site-packages/hypothesis/executors.py\u001b[0m in \u001b[0;36mdefault_new_style_executor\u001b[0;34m(data, function)\u001b[0m\n\u001b[1;32m     56\u001b[0m \u001b[0;34m\u001b[0m\u001b[0m\n\u001b[1;32m     57\u001b[0m \u001b[0;32mdef\u001b[0m \u001b[0mdefault_new_style_executor\u001b[0m\u001b[0;34m(\u001b[0m\u001b[0mdata\u001b[0m\u001b[0;34m,\u001b[0m \u001b[0mfunction\u001b[0m\u001b[0;34m)\u001b[0m\u001b[0;34m:\u001b[0m\u001b[0;34m\u001b[0m\u001b[0m\n\u001b[0;32m---> 58\u001b[0;31m     \u001b[0;32mreturn\u001b[0m \u001b[0mfunction\u001b[0m\u001b[0;34m(\u001b[0m\u001b[0mdata\u001b[0m\u001b[0;34m)\u001b[0m\u001b[0;34m\u001b[0m\u001b[0m\n\u001b[0m\u001b[1;32m     59\u001b[0m \u001b[0;34m\u001b[0m\u001b[0m\n\u001b[1;32m     60\u001b[0m \u001b[0;34m\u001b[0m\u001b[0m\n",
      "\u001b[0;32m~/.virtualenvs/property-based-testing-talk/lib/python3.5/site-packages/hypothesis/core.py\u001b[0m in \u001b[0;36mrun\u001b[0;34m(data)\u001b[0m\n\u001b[1;32m    113\u001b[0m                     lambda: 'Trying example: %s(%s)' % (\n\u001b[1;32m    114\u001b[0m                         test.__name__, arg_string(test, args, kwargs)))\n\u001b[0;32m--> 115\u001b[0;31m             \u001b[0;32mreturn\u001b[0m \u001b[0mtest\u001b[0m\u001b[0;34m(\u001b[0m\u001b[0;34m*\u001b[0m\u001b[0margs\u001b[0m\u001b[0;34m,\u001b[0m \u001b[0;34m**\u001b[0m\u001b[0mkwargs\u001b[0m\u001b[0;34m)\u001b[0m\u001b[0;34m\u001b[0m\u001b[0m\n\u001b[0m\u001b[1;32m    116\u001b[0m     \u001b[0;32mreturn\u001b[0m \u001b[0mrun\u001b[0m\u001b[0;34m\u001b[0m\u001b[0m\n\u001b[1;32m    117\u001b[0m \u001b[0;34m\u001b[0m\u001b[0m\n",
      "\u001b[0;32m<ipython-input-10-7fb62f71f9bd>\u001b[0m in \u001b[0;36mtest_18_char_is_case_insensitive\u001b[0;34m(sf_18_char)\u001b[0m\n\u001b[1;32m      4\u001b[0m         \u001b[0msfid_18_to_15\u001b[0m\u001b[0;34m(\u001b[0m\u001b[0msf_18_char\u001b[0m\u001b[0;34m)\u001b[0m\u001b[0;34m,\u001b[0m\u001b[0;34m\u001b[0m\u001b[0m\n\u001b[1;32m      5\u001b[0m         \u001b[0msfid_18_to_15\u001b[0m\u001b[0;34m(\u001b[0m\u001b[0msf_18_char\u001b[0m\u001b[0;34m.\u001b[0m\u001b[0mlower\u001b[0m\u001b[0;34m(\u001b[0m\u001b[0;34m)\u001b[0m\u001b[0;34m)\u001b[0m\u001b[0;34m,\u001b[0m\u001b[0;34m\u001b[0m\u001b[0m\n\u001b[0;32m----> 6\u001b[0;31m         \u001b[0msfid_18_to_15\u001b[0m\u001b[0;34m(\u001b[0m\u001b[0msf_18_char\u001b[0m\u001b[0;34m.\u001b[0m\u001b[0mupper\u001b[0m\u001b[0;34m(\u001b[0m\u001b[0;34m)\u001b[0m\u001b[0;34m)\u001b[0m\u001b[0;34m,\u001b[0m\u001b[0;34m\u001b[0m\u001b[0m\n\u001b[0m\u001b[1;32m      7\u001b[0m         sfid_18_to_15(sf_18_char.swapcase()))\n",
      "\u001b[0;32m<ipython-input-5-7ba554829509>\u001b[0m in \u001b[0;36msfid_18_to_15\u001b[0;34m(sf_id)\u001b[0m\n\u001b[1;32m      2\u001b[0m     \u001b[0msf_id\u001b[0m \u001b[0;34m=\u001b[0m \u001b[0mlist\u001b[0m\u001b[0;34m(\u001b[0m\u001b[0msf_id\u001b[0m\u001b[0;34m)\u001b[0m\u001b[0;34m\u001b[0m\u001b[0m\n\u001b[1;32m      3\u001b[0m     \u001b[0;32mfor\u001b[0m \u001b[0mi\u001b[0m \u001b[0;32min\u001b[0m \u001b[0mrange\u001b[0m\u001b[0;34m(\u001b[0m\u001b[0;36m3\u001b[0m\u001b[0;34m)\u001b[0m\u001b[0;34m:\u001b[0m\u001b[0;34m\u001b[0m\u001b[0m\n\u001b[0;32m----> 4\u001b[0;31m         \u001b[0mbitmask\u001b[0m \u001b[0;34m=\u001b[0m \u001b[0;34m'abcdefghijklmnopqrstuvwxyz012345'\u001b[0m\u001b[0;34m.\u001b[0m\u001b[0mindex\u001b[0m\u001b[0;34m(\u001b[0m\u001b[0msf_id\u001b[0m\u001b[0;34m[\u001b[0m\u001b[0;36m15\u001b[0m \u001b[0;34m+\u001b[0m \u001b[0mi\u001b[0m\u001b[0;34m]\u001b[0m\u001b[0;34m)\u001b[0m\u001b[0;34m\u001b[0m\u001b[0m\n\u001b[0m\u001b[1;32m      5\u001b[0m         \u001b[0;32mfor\u001b[0m \u001b[0mj\u001b[0m \u001b[0;32min\u001b[0m \u001b[0mrange\u001b[0m\u001b[0;34m(\u001b[0m\u001b[0;36m5\u001b[0m\u001b[0;34m)\u001b[0m\u001b[0;34m:\u001b[0m\u001b[0;34m\u001b[0m\u001b[0m\n\u001b[1;32m      6\u001b[0m             \u001b[0;32mif\u001b[0m \u001b[0mbitmask\u001b[0m \u001b[0;34m&\u001b[0m \u001b[0;34m(\u001b[0m\u001b[0;36m1\u001b[0m \u001b[0;34m<<\u001b[0m \u001b[0mj\u001b[0m\u001b[0;34m)\u001b[0m\u001b[0;34m:\u001b[0m\u001b[0;34m\u001b[0m\u001b[0m\n",
      "\u001b[0;31mValueError\u001b[0m: substring not found"
     ]
    }
   ],
   "source": [
    "test_18_char_is_case_insensitive()"
   ]
  },
  {
   "cell_type": "code",
   "execution_count": 12,
   "metadata": {
    "slideshow": {
     "slide_type": "subslide"
    }
   },
   "outputs": [
    {
     "name": "stdout",
     "output_type": "stream",
     "text": [
      "\u001b[91mFalsifying example: test_18_char_is_case_insensitive(sf_18_char='00600000002nxMDaay')\n",
      "\u001b[0m"
     ]
    }
   ],
   "source": [
    "# Avoiding tracebacks in the slides using this helper function, \n",
    "print_failure_case(test_18_char_is_case_insensitive)"
   ]
  },
  {
   "cell_type": "code",
   "execution_count": 13,
   "metadata": {
    "collapsed": true,
    "slideshow": {
     "slide_type": "subslide"
    }
   },
   "outputs": [],
   "source": [
    "def sfid_18_to_15(sf_id):\n",
    "    sf_id = list(sf_id)\n",
    "    for i in range(3):\n",
    "        bitmask = 'abcdefghijklmnopqrstuvwxyz012345'.index(sf_id[15 + i].lower())\n",
    "         #                                                   added .lower() ^\n",
    "        for j in range(5):\n",
    "            if bitmask & (1 << j):\n",
    "                sf_id[i * 5 + j] = sf_id[i * 5 + j].upper()\n",
    "            else:\n",
    "                sf_id[i * 5 + j] = sf_id[i * 5 + j].lower()\n",
    "    return ''.join(sf_id[:15])\n"
   ]
  },
  {
   "cell_type": "code",
   "execution_count": 14,
   "metadata": {
    "collapsed": true,
    "slideshow": {
     "slide_type": "fragment"
    }
   },
   "outputs": [],
   "source": [
    "test_18_char_is_case_insensitive() # now it passes!"
   ]
  },
  {
   "cell_type": "markdown",
   "metadata": {
    "slideshow": {
     "slide_type": "slide"
    }
   },
   "source": [
    "#### How to come up with properties?\n",
    "\n",
    "## Roundtrip examples -- normalize/denormalize\n",
    "\n",
    "In NREL/openstudio-geometry-editor, we store a geometry object like:\n",
    "\n",
    "```javascript\n",
    "{\n",
    "  id: 1,\n",
    "  vertices: [\n",
    "    {id: 'a', x: 0, y: 16}, {id: 'b', x: 4, y: 16},\n",
    "    {id: 'c', x: 0, y: 10}, {id: 'd', x: 4, y: 10},\n",
    "  ],\n",
    "  edges: [\n",
    "    { id: 'ab', v1: 'a', v2: 'b' }, { id: 'bd', v1: 'b', v2: 'd' },\n",
    "    { id: 'cd', v1: 'c', v2: 'd' }, { id: 'ac', v1: 'a', v2: 'c' },\n",
    "  ],\n",
    "  faces: [\n",
    "    {id: 'top', edgeRefs: [\n",
    "      {edge_id: 'ab', reverse: false}, {edge_id: 'bd', reverse: false},\n",
    "      {edge_id: 'cd', reverse: true}, {edge_id: 'ac', reverse: true},\n",
    "    ]},\n",
    "  ],\n",
    "}\n",
    "```"
   ]
  },
  {
   "cell_type": "markdown",
   "metadata": {
    "slideshow": {
     "slide_type": "subslide"
    }
   },
   "source": [
    "#### How to come up with properties example: normalize/denormalize\n",
    "\n",
    "Often, a denormalized structure is easier to work with:\n",
    "\n",
    "```javascript\n",
    "{\n",
    "  id: 1,\n",
    "  vertices: [\n",
    "    {id: 'a', x: 0, y: 16}, {id: 'b', x: 4, y: 16},\n",
    "    {id: 'c', x: 0, y: 10}, {id: 'd', x: 4, y: 10},\n",
    "  ],\n",
    "  edges: [\n",
    "    { id: 'ab', v1: {id: 'a', x: 0, y: 16}, v2: {id: 'b', x: 4, y: 16} },\n",
    "    { id: 'bd', v1: {id: 'b', x: 4, y: 16}, v2: {id: 'd', x: 4, y: 10} },\n",
    "    { id: 'cd', v1: {id: 'c', x: 0, y: 10}, v2: {id: 'd', x: 4, y: 10} },\n",
    "    { id: 'ac', v1: {id: 'a', x: 0, y: 16}, v2: {id: 'c', x: 0, y: 10} },\n",
    "  ],\n",
    "  faces: [\n",
    "    {id: 'top', edgeRefs: [\n",
    "      { edge: { id: 'ab', v1: {id: 'a', x: 0, y: 16}, v2: {id: 'b', x: 4, y: 16} },\n",
    "        reverse: false },\n",
    "      { edge: { id: 'bd', v1: {id: 'b', x: 4, y: 16}, v2: {id: 'd', x: 4, y: 10} },\n",
    "        reverse: false },\n",
    "      { edge: { id: 'cd', v1: {id: 'c', x: 0, y: 10}, v2: {id: 'd', x: 4, y: 10} },\n",
    "        reverse: true },\n",
    "      { edge: { id: 'ac', v1: {id: 'a', x: 0, y: 16}, v2: {id: 'c', x: 0, y: 10} },\n",
    "        reverse: true },\n",
    "    ]},\n",
    "  ],\n",
    "}```"
   ]
  },
  {
   "cell_type": "markdown",
   "metadata": {
    "slideshow": {
     "slide_type": "subslide"
    }
   },
   "source": [
    "#### How to come up with properties example: normalize/denormalize\n",
    "\n",
    "\n",
    "```javascript\n",
    "import { gen, check, property } from 'testcheck';\n",
    "\n",
    "describe('denormalize', () => {\n",
    "  it('is undone by normalize', () => {\n",
    "    const result = check(property(\n",
    "      gen.oneOf(_.values(geometryExamples)),\n",
    "      (geom) => {\n",
    "        assertEqual(\n",
    "          geom,\n",
    "          normalize(denormalize(geom)),\n",
    "        );\n",
    "      },\n",
    "    ));\n",
    "    assert(resp.result, 'Property failed to verify!');\n",
    "  });\n",
    "});\n",
    "```"
   ]
  },
  {
   "cell_type": "markdown",
   "metadata": {
    "slideshow": {
     "slide_type": "subslide"
    }
   },
   "source": [
    "#### Aside: using testcheck.js\n",
    "\n",
    "`check(property(...))` won't throw an error on it's own. I wrote this helper function:\n",
    "\n",
    "```javascript\n",
    "function assertProperty(...args) {\n",
    "  // if last parameter is not a function, assume it's config for call to check()\n",
    "  const checkConfig = _.isFunction(args[args.length - 1]) ? {} : args.pop();\n",
    "\n",
    "  let resp = check(property(...args), checkConfig);\n",
    "  if (resp.result instanceof Error) {\n",
    "    resp = resp.shrunk || resp;\n",
    "    console.error(`${resp.result}`);\n",
    "    console.error(\n",
    "      `Property failed to verify on input: ${JSON.stringify(resp.smallest || resp.fail)}`);\n",
    "    throw resp.result;\n",
    "  }\n",
    "  assert(resp.result, `Property failed to verify! ${JSON.stringify(resp)}`);\n",
    "}\n",
    "```"
   ]
  },
  {
   "cell_type": "markdown",
   "metadata": {
    "slideshow": {
     "slide_type": "slide"
    }
   },
   "source": [
    "#### How to come up with Properties?\n",
    "\n",
    "## \"Fixed-point\" computations (aka 'idempotent')\n",
    "\n",
    "### When applying a function multiple times should give the same result\n",
    "\n",
    "Examples:"
   ]
  },
  {
   "cell_type": "code",
   "execution_count": 15,
   "metadata": {
    "collapsed": true,
    "slideshow": {
     "slide_type": "fragment"
    }
   },
   "outputs": [],
   "source": [
    "# sorting\n",
    "@given(lists(integers()))\n",
    "def test_sort_is_fixed_point(a_list):\n",
    "    assert sorted(a_list) == sorted(sorted(a_list))"
   ]
  },
  {
   "cell_type": "code",
   "execution_count": 16,
   "metadata": {
    "collapsed": true,
    "slideshow": {
     "slide_type": "fragment"
    }
   },
   "outputs": [],
   "source": [
    "# set operations\n",
    "@given(sets(integers()), sets(integers()))\n",
    "def test_set_ops_are_idempotent(set1, set2):\n",
    "    assert set1 & set2 == (set1 & set2) & set2\n",
    "    assert set1 | set2 == (set1 | set2) | set2\n",
    "    assert set1 - set2 == (set1 - set2) - set2"
   ]
  },
  {
   "cell_type": "code",
   "execution_count": 17,
   "metadata": {
    "collapsed": true,
    "slideshow": {
     "slide_type": "fragment"
    }
   },
   "outputs": [],
   "source": [
    "# first_day_of_quarter (a problem I had at my last job)\n",
    "@given(datetimes())\n",
    "def test_first_day_of_quarter_is_fixed_point(dt):\n",
    "    assert (first_day_of_quarter(dt) ==\n",
    "            first_day_of_quarter(first_day_of_quarter(dt)))"
   ]
  },
  {
   "cell_type": "markdown",
   "metadata": {
    "slideshow": {
     "slide_type": "slide"
    }
   },
   "source": [
    "#### How to come up with Properties?\n",
    "\n",
    "## Compare to reference function\n",
    "\n",
    "### why not just *use* the reference function?\n"
   ]
  },
  {
   "cell_type": "markdown",
   "metadata": {
    "slideshow": {
     "slide_type": "fragment"
    }
   },
   "source": [
    "- maybe yours is faster\n"
   ]
  },
  {
   "cell_type": "markdown",
   "metadata": {
    "slideshow": {
     "slide_type": "fragment"
    }
   },
   "source": [
    "- maybe the reference is in another language?"
   ]
  },
  {
   "cell_type": "code",
   "execution_count": 18,
   "metadata": {
    "collapsed": true
   },
   "outputs": [],
   "source": [
    "@given(datetimes(), integers(1, 12))\n",
    "def test_pg_period_string(date, base_month):\n",
    "    py_string = period_string(date, 'quarter', base_month)\n",
    "    db_string = fetchone('SELECT quarter_str(%s, %s)', (base_month, date))[0]\n",
    "    assert py_string == db_string"
   ]
  },
  {
   "cell_type": "markdown",
   "metadata": {
    "slideshow": {
     "slide_type": "fragment"
    }
   },
   "source": [
    "- binary search is famously hard to get right, so maybe compare with a linear search?"
   ]
  },
  {
   "cell_type": "markdown",
   "metadata": {
    "slideshow": {
     "slide_type": "slide"
    }
   },
   "source": [
    "#### How to come up with Properties?\n",
    "\n",
    "## Describe a relationship between the inputs and the outputs"
   ]
  },
  {
   "cell_type": "code",
   "execution_count": 19,
   "metadata": {
    "collapsed": true,
    "slideshow": {
     "slide_type": "-"
    }
   },
   "outputs": [],
   "source": [
    "@given(lists(integers()), lists(integers()))\n",
    "def test_list_length_is_preserved_on_addition(a, b):\n",
    "    assert len(a + b) == len(a) + len(b)"
   ]
  },
  {
   "cell_type": "markdown",
   "metadata": {
    "slideshow": {
     "slide_type": "slide"
    }
   },
   "source": [
    "#### How to come up with Properties?\n",
    "\n",
    "## Start with an example and generalize it"
   ]
  },
  {
   "cell_type": "markdown",
   "metadata": {
    "slideshow": {
     "slide_type": "-"
    }
   },
   "source": [
    "```javascript\n",
    "assertEqual(prime_factors(4), [2, 2])\n",
    "```"
   ]
  },
  {
   "cell_type": "markdown",
   "metadata": {
    "slideshow": {
     "slide_type": "fragment"
    }
   },
   "source": [
    "Why not test that `prime_factors(some_prime * some_prime)` is `[some_prime, some_prime]`"
   ]
  },
  {
   "cell_type": "markdown",
   "metadata": {
    "collapsed": true,
    "slideshow": {
     "slide_type": "fragment"
    }
   },
   "source": [
    "```javascript\n",
    "assertProperty(\n",
    "  gen.oneOf(first10kPrimes),\n",
    "  prime => assertEqual(primeFactors(prime * prime), [prime, prime]),\n",
    ");\n",
    "```"
   ]
  },
  {
   "cell_type": "markdown",
   "metadata": {
    "slideshow": {
     "slide_type": "slide"
    }
   },
   "source": [
    "## An Example: merge sort\n"
   ]
  },
  {
   "cell_type": "code",
   "execution_count": 20,
   "metadata": {
    "collapsed": true
   },
   "outputs": [],
   "source": [
    "def merge_sort(lst):\n",
    "    if len(lst) <= 1:\n",
    "        return lst\n",
    "    \n",
    "    middle = len(lst) // 2\n",
    "    left = merge_sort(lst[:middle])\n",
    "    right = merge_sort(lst[middle:])\n",
    "    \n",
    "    return merge(left, right)\n",
    "\n",
    "def merge(left, right):\n",
    "    if not left or not right:\n",
    "        # base case: one of the arrays is empty\n",
    "        return left or right\n",
    "\n",
    "    result = []\n",
    "    ix, jx = 0, 0\n",
    "    while ix < len(left) and jx < len(right):\n",
    "        if left[ix] <= right[jx]:\n",
    "            result.append(left[ix])\n",
    "            ix += 1\n",
    "        else:\n",
    "            result.append(right[jx])\n",
    "            jx += 1\n",
    "    return result"
   ]
  },
  {
   "cell_type": "markdown",
   "metadata": {
    "slideshow": {
     "slide_type": "subslide"
    }
   },
   "source": [
    "#### An example: merge sort\n",
    "\n",
    "## Let's define some tests"
   ]
  },
  {
   "cell_type": "code",
   "execution_count": 21,
   "metadata": {
    "collapsed": true,
    "slideshow": {
     "slide_type": "fragment"
    }
   },
   "outputs": [],
   "source": [
    "@given(lists(integers()))\n",
    "def test_sort_produces_correct_order(a_list):\n",
    "    sorted_lst = merge_sort(a_list)\n",
    "    for ix in range(len(sorted_lst) - 1):\n",
    "        assert sorted_lst[ix] <= sorted_lst[ix + 1]\n",
    "\n",
    "@given(lists(integers()))\n",
    "def test_sort_is_fixed_point(a_list):\n",
    "    sorted_lst = merge_sort(a_list)\n",
    "    assert sorted_lst == merge_sort(sorted_lst)"
   ]
  },
  {
   "cell_type": "code",
   "execution_count": 22,
   "metadata": {
    "collapsed": true
   },
   "outputs": [],
   "source": [
    "test_sort_produces_correct_order()\n",
    "test_sort_is_fixed_point()"
   ]
  },
  {
   "cell_type": "code",
   "execution_count": 23,
   "metadata": {
    "collapsed": true,
    "slideshow": {
     "slide_type": "subslide"
    }
   },
   "outputs": [],
   "source": [
    "@given(lists(integers()))\n",
    "def test_sort_maintains_length(a_list):\n",
    "    sorted_lst = merge_sort(a_list)\n",
    "    assert len(sorted_lst) == len(a_list)"
   ]
  },
  {
   "cell_type": "code",
   "execution_count": 24,
   "metadata": {
    "collapsed": true,
    "slideshow": {
     "slide_type": "fragment"
    }
   },
   "outputs": [],
   "source": [
    "@given(lists(integers()))\n",
    "def test_sorted_list_has_same_elements(a_list):\n",
    "    sorted_lst = merge_sort(a_list)\n",
    "    # A Counter is a map from element of the list to the number of times\n",
    "    # it appears.\n",
    "    assert Counter(sorted_lst) == Counter(a_list)"
   ]
  },
  {
   "cell_type": "code",
   "execution_count": 25,
   "metadata": {
    "collapsed": true,
    "slideshow": {
     "slide_type": "fragment"
    }
   },
   "outputs": [],
   "source": [
    "@given(lists(integers()))\n",
    "def test_sort_against_reference(a_list):\n",
    "    assert merge_sort(a_list) == sorted(a_list)"
   ]
  },
  {
   "cell_type": "markdown",
   "metadata": {
    "slideshow": {
     "slide_type": "subslide"
    }
   },
   "source": [
    "#### an example: merge sort\n",
    "\n",
    "Unfortunately, these last three all fail."
   ]
  },
  {
   "cell_type": "code",
   "execution_count": 26,
   "metadata": {
    "slideshow": {
     "slide_type": "fragment"
    }
   },
   "outputs": [
    {
     "name": "stdout",
     "output_type": "stream",
     "text": [
      "\u001b[91mFalsifying example: test_sort_maintains_length(a_list=[0, 0])\n",
      "\u001b[0m\u001b[91mFalsifying example: test_sorted_list_has_same_elements(a_list=[0, 0])\n",
      "\u001b[0m\u001b[91mFalsifying example: test_sort_against_reference(a_list=[0, 0])\n",
      "\u001b[0m"
     ]
    }
   ],
   "source": [
    "print_failure_case(test_sort_maintains_length)\n",
    "print_failure_case(test_sorted_list_has_same_elements)\n",
    "print_failure_case(test_sort_against_reference)"
   ]
  },
  {
   "cell_type": "code",
   "execution_count": 27,
   "metadata": {
    "slideshow": {
     "slide_type": "fragment"
    }
   },
   "outputs": [
    {
     "data": {
      "text/plain": [
       "[0]"
      ]
     },
     "execution_count": 27,
     "metadata": {},
     "output_type": "execute_result"
    }
   ],
   "source": [
    "merge_sort([0, 0])"
   ]
  },
  {
   "cell_type": "markdown",
   "metadata": {
    "slideshow": {
     "slide_type": "subslide"
    }
   },
   "source": [
    "#### an example: merge sort\n",
    "\n",
    "## Can you spot the error?"
   ]
  },
  {
   "cell_type": "code",
   "execution_count": 28,
   "metadata": {
    "collapsed": true
   },
   "outputs": [],
   "source": [
    "def merge(left, right):\n",
    "    if not left or not right:\n",
    "        # base case: one of the arrays is empty\n",
    "        return left or right\n",
    "\n",
    "    result = []\n",
    "    ix, jx = 0, 0\n",
    "    while ix < len(left) and jx < len(right):\n",
    "        if left[ix] <= right[jx]:\n",
    "            result.append(left[ix])\n",
    "            ix += 1\n",
    "        else:\n",
    "            result.append(right[jx])\n",
    "            jx += 1\n",
    "    return result"
   ]
  },
  {
   "cell_type": "markdown",
   "metadata": {
    "slideshow": {
     "slide_type": "fragment"
    }
   },
   "source": [
    "We're never copying remaining elements from `left[ix:]` or `right[jx:]`."
   ]
  },
  {
   "cell_type": "markdown",
   "metadata": {
    "slideshow": {
     "slide_type": "subslide"
    }
   },
   "source": [
    "#### an example: merge sort"
   ]
  },
  {
   "cell_type": "code",
   "execution_count": 29,
   "metadata": {
    "collapsed": true
   },
   "outputs": [],
   "source": [
    "def merge(left, right):\n",
    "    if not left or not right:\n",
    "        # base case: one of the arrays is empty\n",
    "        return left or right\n",
    "\n",
    "    result = []\n",
    "    ix, jx = 0, 0\n",
    "    while ix < len(left) and jx < len(right):\n",
    "        if left[ix] <= right[jx]:\n",
    "            result.append(left[ix])\n",
    "            ix += 1\n",
    "        else:\n",
    "            result.append(right[jx])\n",
    "            jx += 1\n",
    "    \n",
    "    # Adding this:\n",
    "    result.extend(left[ix:])\n",
    "    result.extend(right[jx:])\n",
    "    \n",
    "    return result"
   ]
  },
  {
   "cell_type": "markdown",
   "metadata": {
    "slideshow": {
     "slide_type": "subslide"
    }
   },
   "source": [
    "#### an example: merge sort\n",
    "\n",
    "Now our tests pass..."
   ]
  },
  {
   "cell_type": "code",
   "execution_count": 30,
   "metadata": {
    "collapsed": true
   },
   "outputs": [],
   "source": [
    "test_sort_produces_correct_order()\n",
    "test_sort_is_fixed_point()\n",
    "test_sort_maintains_length()\n",
    "test_sorted_list_has_same_elements()\n",
    "test_sort_against_reference()"
   ]
  },
  {
   "cell_type": "markdown",
   "metadata": {
    "slideshow": {
     "slide_type": "slide"
    }
   },
   "source": [
    "## How to write a generator/strategy\n",
    "\n",
    "Besides the built in generators provided by hypothesis and testcheck.js, it's useful to create your own custom generators to make examples of your domain objects.\n"
   ]
  },
  {
   "cell_type": "markdown",
   "metadata": {
    "slideshow": {
     "slide_type": "fragment"
    }
   },
   "source": [
    "\n",
    "- hypothesis provides `builds`, that takes a function and some strategies in `*args, **kwargs`:\n",
    "\n",
    "```python\n",
    "# example from bgschiller/hangman-api\n",
    "def new_puzzle(word=None):\n",
    "    word = word or random.choice(WORDS)\n",
    "    return {\n",
    "        'word_so_far': list('_' * len(word)),\n",
    "        'actual_word': word.upper(),\n",
    "        'guesses': [],\n",
    "    }\n",
    "puzzle_strategy = builds(new_puzzle, word=sampled_from(WORDS))\n",
    "\n",
    "puzzle_strategy.example()\n",
    "#{'actual_word': 'TRACE',\n",
    "# 'guesses': [],\n",
    "# 'word_so_far': ['_', '_', '_', '_', '_']}\n",
    "```\n"
   ]
  },
  {
   "cell_type": "code",
   "execution_count": 31,
   "metadata": {
    "slideshow": {
     "slide_type": "skip"
    }
   },
   "outputs": [
    {
     "data": {
      "image/png": "[encoded data removed]",
      "text/plain": [
       "<matplotlib.figure.Figure at 0x10c51e048>"
      ]
     },
     "metadata": {},
     "output_type": "display_data"
    }
   ],
   "source": [
    "## Generate the explanatory picture for this slide\n",
    "startX, startY = 5, -4\n",
    "endX, endY = 18, 13\n",
    "positionsAlong = [0.2, 0.5, 0.6, 0.7, 0.9]\n",
    "pointsAlong = list(zip(\n",
    "    [startX + (t * (endX - startX)) for t in positionsAlong],\n",
    "    [startY + (t * (endY - startY)) for t in positionsAlong]))\n",
    "\n",
    "fig, ax = plt.subplots(figsize=(10, 10))\n",
    "ax.axis('off')\n",
    "\n",
    "ax.plot([startX, endX], [startY, endY], marker='o')\n",
    "ax.plot(*zip(*pointsAlong), 'o')\n",
    "for t, (x, y) in zip(positionsAlong, pointsAlong):\n",
    "    ax.annotate('t = {}'.format(t), [x + 0.5, y - 0.5], fontsize='x-large')\n",
    "ax.annotate('(startX, startY)', [startX + 0.5, startY], fontsize='x-large')\n",
    "ax.annotate('(endX, endY)', [endX - 0.5, endY], horizontalalignment='right', fontsize='x-large')\n",
    "fig.savefig('pointsAlongLine.png')"
   ]
  },
  {
   "cell_type": "markdown",
   "metadata": {
    "slideshow": {
     "slide_type": "subslide"
    }
   },
   "source": [
    "![](pointsAlongLine.png)"
   ]
  },
  {
   "cell_type": "markdown",
   "metadata": {
    "slideshow": {
     "slide_type": "subslide"
    }
   },
   "source": [
    "```javascript\n",
    "  const genVertices = gen.object({\n",
    "    startX: gen.numberWithin(-10000, 10000),\n",
    "    startY: gen.numberWithin(-10000, 10000),\n",
    "    endX: gen.numberWithin(-10000, 10000),\n",
    "    endY: gen.numberWithin(-10000, 10000),\n",
    "    pointsAlong: gen.array(gen.numberWithin(0, 1), { minSize: 0, maxSize: 10 }),\n",
    "  })\n",
    "  ```"
   ]
  },
  {
   "cell_type": "markdown",
   "metadata": {
    "slideshow": {
     "slide_type": "fragment"
    }
   },
   "source": [
    "```javascript\n",
    "  .suchThat(({ startX, startY, endX, endY }) => startX !== endX || startY !== endY)\n",
    "```"
   ]
  },
  {
   "cell_type": "markdown",
   "metadata": {
    "slideshow": {
     "slide_type": "fragment"
    }
   },
   "source": [
    "  ```javascript\n",
    "  .then(({ startX, startY, endX, endY, pointsAlong }) => {\n",
    "    const toPointOnLine = t => ({\n",
    "      x: startX + (t * (endX - startX)),\n",
    "      y: startY + (t * (endY - startY)),\n",
    "    });\n",
    "    \n",
    "    const arr = [\n",
    "      /* start */{ x: startX, y: startY, identity: 'start' },\n",
    "      /* end */{ x: endX, y: endY, identity: 'end' },\n",
    "      /* verts */\n",
    "      ...pointsAlong.map(toPointOnLine),\n",
    "    ];\n",
    "    if (pointsAlong.length) {\n",
    "      /* and a duplicate out of order for good measure */\n",
    "      arr.push(toPointOnLine(pointsAlong[0]));\n",
    "    }\n",
    "    return arr;\n",
    "  });\n",
    "\n",
    "```"
   ]
  },
  {
   "cell_type": "markdown",
   "metadata": {
    "slideshow": {
     "slide_type": "slide"
    }
   },
   "source": [
    "## Generator example: polygons\n",
    "\n",
    "(I use this one in NREL/openstudio-geometry-editor). A caveats:\n"
   ]
  },
  {
   "cell_type": "markdown",
   "metadata": {
    "collapsed": true,
    "slideshow": {
     "slide_type": "fragment"
    }
   },
   "source": [
    "- not completely 'expressive'\n",
    "- pretty good for testing\n",
    "- (better than the 3-5 examples I would have patience to write on my own)"
   ]
  },
  {
   "cell_type": "markdown",
   "metadata": {
    "slideshow": {
     "slide_type": "subslide"
    }
   },
   "source": [
    "#### generator example: polygons\n",
    "\n",
    "## A recipe for a polygon\n",
    "\n",
    "1. Choose a point to be the center.\n",
    "2. Choose a number of vertices, $n$.\n",
    "3. For each of $n$ equal directions (eg, when $n=3$: $0^{\\circ}$, $120^{\\circ}$, and $240^{\\circ}$)\n",
    "  - Choose a distance, $d$ and plant a vertex that far away from the center in the direction chosen."
   ]
  },
  {
   "cell_type": "code",
   "execution_count": 32,
   "metadata": {
    "slideshow": {
     "slide_type": "skip"
    }
   },
   "outputs": [
    {
     "data": {
      "image/png": "[encoded data removed]",
      "text/plain": [
       "<matplotlib.figure.Figure at 0x10dd9c320>"
      ]
     },
     "metadata": {},
     "output_type": "display_data"
    }
   ],
   "source": [
    "# generate the explanatory polygon graphic\n",
    "\n",
    "fig, ax = plt.subplots(figsize=(5, 5))\n",
    "fig.set_size_inches(10, 10)\n",
    "\n",
    "ax.axis('off')\n",
    "ax.set_xlim(192.12422853458619, 210.58856724501976)\n",
    "ax.set_ylim(327.47518723099802, 347.52265683509671)\n",
    "\n",
    "center = centerX, centerY = (200, 341)\n",
    "radii = [5, 3, 10, 2, 14, 7, 9]\n",
    "angle_step = 2 * math.pi / len(radii)\n",
    "ax.plot(centerX, centerY, marker='o', color='k', linewidth=3, markersize=10)\n",
    "pts = []\n",
    "\n",
    "fig.savefig('createPolygon0.png')\n",
    "\n",
    "for ix, rad in enumerate(radii):\n",
    "    pt = (\n",
    "        centerX + rad * math.sin(ix * angle_step),\n",
    "        centerY + rad * math.cos(ix * angle_step))\n",
    "\n",
    "    ax.plot(*zip(center, pt), marker='o', color='k', linewidth=3, markersize=10)\n",
    "    pts.append(pt)\n",
    "    fig.savefig('createPolygon{}.png'.format(ix + 1))\n",
    "\n",
    "pts.append(pts[0])\n",
    "ax.plot(*zip(*pts), linestyle='dashed', linewidth=3)\n",
    "fig.savefig('createPolygon{}.png'.format(len(radii) + 1))"
   ]
  },
  {
   "cell_type": "markdown",
   "metadata": {
    "slideshow": {
     "slide_type": "subslide"
    }
   },
   "source": [
    "<img src=\"createPolygon0.png\" style=\" position: fixed; top: 50%; left: 50%; transform: translate(-50%, -50%);\">"
   ]
  },
  {
   "cell_type": "markdown",
   "metadata": {
    "slideshow": {
     "slide_type": "fragment"
    }
   },
   "source": [
    "<img src=\"createPolygon1.png\" style=\" position: fixed; top: 50%; left: 50%; transform: translate(-50%, -50%);\">"
   ]
  },
  {
   "cell_type": "markdown",
   "metadata": {
    "slideshow": {
     "slide_type": "fragment"
    }
   },
   "source": [
    "<img src=\"createPolygon2.png\" style=\" position: fixed; top: 50%; left: 50%; transform: translate(-50%, -50%);\">"
   ]
  },
  {
   "cell_type": "markdown",
   "metadata": {
    "slideshow": {
     "slide_type": "fragment"
    }
   },
   "source": [
    "<img src=\"createPolygon3.png\" style=\" position: fixed; top: 50%; left: 50%; transform: translate(-50%, -50%);\">"
   ]
  },
  {
   "cell_type": "markdown",
   "metadata": {
    "slideshow": {
     "slide_type": "fragment"
    }
   },
   "source": [
    "<img src=\"createPolygon4.png\" style=\" position: fixed; top: 50%; left: 50%; transform: translate(-50%, -50%);\">"
   ]
  },
  {
   "cell_type": "markdown",
   "metadata": {
    "slideshow": {
     "slide_type": "fragment"
    }
   },
   "source": [
    "<img src=\"createPolygon5.png\" style=\" position: fixed; top: 50%; left: 50%; transform: translate(-50%, -50%);\">"
   ]
  },
  {
   "cell_type": "markdown",
   "metadata": {
    "slideshow": {
     "slide_type": "fragment"
    }
   },
   "source": [
    "<img src=\"createPolygon6.png\" style=\" position: fixed; top: 50%; left: 50%; transform: translate(-50%, -50%);\">"
   ]
  },
  {
   "cell_type": "markdown",
   "metadata": {
    "slideshow": {
     "slide_type": "fragment"
    }
   },
   "source": [
    "<img src=\"createPolygon7.png\" style=\" position: fixed; top: 50%; left: 50%; transform: translate(-50%, -50%);\">"
   ]
  },
  {
   "cell_type": "markdown",
   "metadata": {
    "slideshow": {
     "slide_type": "fragment"
    }
   },
   "source": [
    "<img src=\"createPolygon8.png\" style=\" position: fixed; top: 50%; left: 50%; transform: translate(-50%, -50%);\">"
   ]
  },
  {
   "cell_type": "markdown",
   "metadata": {
    "slideshow": {
     "slide_type": "subslide"
    }
   },
   "source": [
    "generator example: polygons\n",
    "\n",
    "\n",
    "```javascript\n",
    "const createIrregularPolygon = ({ center, radii }) => {\n",
    "  const angleStep = (2 * Math.PI) / radii.length;\n",
    "\n",
    "  return radii\n",
    "    .map((radius, n) => ({\n",
    "      x: center.x + (radius * Math.sin(n * angleStep)),\n",
    "      y: center.y + (radius * Math.cos(n * angleStep)),\n",
    "    }));\n",
    "};\n",
    "```\n"
   ]
  },
  {
   "cell_type": "markdown",
   "metadata": {
    "slideshow": {
     "slide_type": "fragment"
    }
   },
   "source": [
    "\n",
    "```javascript\n",
    "const genIrregularPolygon = gen.object({\n",
    "  center: gen.object({ x: gen.int, y: gen.int }),\n",
    "  radii: gen.array(gen.intWithin(5, 100), { minSize: 3, maxSize: 20 }),\n",
    "})\n",
    ".then(createIrregularPolygon);\n",
    "```"
   ]
  },
  {
   "cell_type": "markdown",
   "metadata": {
    "slideshow": {
     "slide_type": "slide"
    }
   },
   "source": [
    "## Throwing away examples\n",
    "\n",
    "- Hypothesis has `assume`\n",
    "- testcheck has `suchThat`"
   ]
  },
  {
   "cell_type": "code",
   "execution_count": 33,
   "metadata": {
    "slideshow": {
     "slide_type": "fragment"
    }
   },
   "outputs": [
    {
     "name": "stdout",
     "output_type": "stream",
     "text": [
      "\u001b[91mFalsifying example: test_negation_is_self_inverse(x=nan)\n",
      "\u001b[0m"
     ]
    }
   ],
   "source": [
    "# an example from the hypothesis docs\n",
    "@given(floats())\n",
    "def test_negation_is_self_inverse(x):\n",
    "    assert x == -(-x)\n",
    "\n",
    "print_failure_case(test_negation_is_self_inverse)"
   ]
  },
  {
   "cell_type": "code",
   "execution_count": 34,
   "metadata": {
    "collapsed": true,
    "slideshow": {
     "slide_type": "fragment"
    }
   },
   "outputs": [],
   "source": [
    "from hypothesis import assume\n",
    "from math import isnan\n",
    "\n",
    "# an example from the hypothesis docs\n",
    "@given(floats())\n",
    "def test_negation_is_self_inverse(x):\n",
    "    assume(not isnan(x))\n",
    "    assert x == -(-x)\n",
    "\n",
    "print_failure_case(test_negation_is_self_inverse)"
   ]
  },
  {
   "cell_type": "markdown",
   "metadata": {
    "slideshow": {
     "slide_type": "subslide"
    }
   },
   "source": [
    "#### Throwing away examples\n",
    "\n",
    "testcheck has `.suchThat()`\n",
    "\n",
    "```javascript\n",
    "const genPoint = gen.object({ x: gen.int, y: gen.int });\n",
    "\n",
    "const genTriangle = gen.array(genPoint, { size: 3 })\n",
    "  .suchThat(pts => !ptsAreCollinear(...pts));\n",
    "```"
   ]
  },
  {
   "cell_type": "markdown",
   "metadata": {
    "slideshow": {
     "slide_type": "subslide"
    }
   },
   "source": [
    "#### Throwing away examples\n",
    "\n",
    "## Be careful using `assume` and `suchThat`\n",
    "\n",
    "- There is a performance cost\n",
    "- If the requirement is too hard (improbable) to satisfy, an exception is thrown\n",
    "- Often, it's possible to make your generator more specific instead:"
   ]
  },
  {
   "cell_type": "markdown",
   "metadata": {
    "slideshow": {
     "slide_type": "fragment"
    }
   },
   "source": [
    "```javascript\n",
    "const genEvenNumber = gen.int.suchThat(n => n % 2 === 0);\n",
    "```"
   ]
  },
  {
   "cell_type": "markdown",
   "metadata": {
    "slideshow": {
     "slide_type": "fragment"
    }
   },
   "source": [
    "```javascript\n",
    "const genEvenNumber = gen.int.then(n => n * 2);\n",
    "```"
   ]
  },
  {
   "cell_type": "markdown",
   "metadata": {
    "slideshow": {
     "slide_type": "slide"
    }
   },
   "source": [
    "## That's it!\n",
    "\n",
    "#### Sources\n",
    "\n",
    "- [hypothesis.readthedocs.io](https://hypothesis.readthedocs.io/en/latest/)\n",
    "- [leebyron.com/testcheck-js/](http://leebyron.com/testcheck-js/)\n",
    "- [jeffhui.net/2015/07-generative-testing.html](https://www.jeffhui.net/2015/07-generative-testing.html)\n",
    "- [8thlight.com/blog/connor-mendenhall/2013/10/31/check-your-work.html](https://8thlight.com/blog/connor-mendenhall/2013/10/31/check-your-work.html)\n",
    "- [hypothesis.works/articles/testing-performance-optimizations/](http://hypothesis.works/articles/testing-performance-optimizations/)\n",
    "- [hypothesis.works/articles/encode-decode-invariant/](http://hypothesis.works/articles/encode-decode-invariant/)"
   ]
  }
 ],
 "metadata": {
  "celltoolbar": "Slideshow",
  "kernelspec": {
   "display_name": "property-based-testing-talk-python",
   "language": "python",
   "name": "property-based-testing-talk-python"
  },
  "language_info": {
   "codemirror_mode": {
    "name": "ipython",
    "version": 3
   },
   "file_extension": ".py",
   "mimetype": "text/x-python",
   "name": "python",
   "nbconvert_exporter": "python",
   "pygments_lexer": "ipython3",
   "version": "3.5.2"
  }
 },
 "nbformat": 4,
 "nbformat_minor": 2
}
